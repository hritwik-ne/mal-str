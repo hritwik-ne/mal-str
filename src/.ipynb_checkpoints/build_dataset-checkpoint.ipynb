{
 "cells": [
  {
   "cell_type": "code",
   "execution_count": 3,
   "id": "602c932d",
   "metadata": {},
   "outputs": [],
   "source": [
    "import os\n",
    "import cv2\n",
    "import numpy as np\n",
    "import pandas as pd\n",
    "from os import path"
   ]
  },
  {
   "cell_type": "code",
   "execution_count": 2,
   "id": "70b4181d",
   "metadata": {},
   "outputs": [],
   "source": [
    "def resize_image(img, channel=3):\n",
    "    gray_img = img[:,:,channel]\n",
    "    bin_img = gray_img / 25\n",
    "    bin_img = cv2.resize(bin_img, (32, 32))\n",
    "    img_32X32 = bin_img > 0\n",
    "    img_32X32 = img_32X32.astype(int)\n",
    "    img_1X1024 = np.reshape(img_32X32, (1, 1024)) \n",
    "    return img_1X1024"
   ]
  },
  {
   "cell_type": "code",
   "execution_count": 4,
   "id": "15ff41cc",
   "metadata": {},
   "outputs": [],
   "source": [
    "data_dir = '../data/v_0.1/'\n",
    "train_dataset = path.join(data_dir, 'fixed_train.csv')\n",
    "valid_dataset = path.join(data_dir, 'fixed_valid.csv')\n",
    "test_dataset = path.join(data_dir, 'fixed_test.csv')\n",
    "\n",
    "cols = [i for i in range(1025)]\n",
    "\n",
    "train_df = pd.read_csv(train_dataset, header=0, names=cols)\n",
    "valid_df = pd.read_csv(valid_dataset, header=0, names=cols)\n",
    "test_df = pd.read_csv(test_dataset, header=0, names=cols)"
   ]
  },
  {
   "cell_type": "code",
   "execution_count": 5,
   "id": "c04859bc",
   "metadata": {},
   "outputs": [],
   "source": [
    "path = '../data/v_0.2/'\n",
    "train_dir = path + 'train'\n",
    "valid_dir = path + 'val'\n",
    "test_dir = path + 'test'\n",
    "\n",
    "train_labels = os.listdir(train_dir)\n",
    "if '.DS_Store' in train_labels:\n",
    "    train_labels.remove('.DS_Store')\n",
    "\n",
    "valid_labels = os.listdir(valid_dir)\n",
    "if '.DS_Store' in valid_labels:\n",
    "    valid_labels.remove('.DS_Store')\n",
    "\n",
    "test_labels = os.listdir(test_dir)\n",
    "if '.DS_Store' in test_labels:\n",
    "    test_labels.remove('.DS_Store')"
   ]
  },
  {
   "cell_type": "code",
   "execution_count": 9,
   "id": "4219544c",
   "metadata": {},
   "outputs": [],
   "source": [
    "new_train_df_list = []    \n",
    "new_valid_df_list = []\n",
    "new_test_df_list = []\n",
    "\n",
    "for character in train_labels:\n",
    "    train_images = os.listdir(train_dir + f'/{character}')\n",
    "    for image in train_images:\n",
    "        if image!='.DS_Store':\n",
    "            path_1 = f'{train_dir}/{character}/{image}'\n",
    "            image_cv2 = cv2.imread(path_1, cv2.IMREAD_UNCHANGED)\n",
    "            image_pix = resize_image(image_cv2)\n",
    "            row = np.insert(image_pix[0], 0, character)\n",
    "            new_train_df_list.append(row.tolist())\n",
    "\n",
    "for character in valid_labels:\n",
    "    valid_images = os.listdir(valid_dir + f'/{character}')\n",
    "    for image in valid_images:\n",
    "        if image!='.DS_Store':\n",
    "            path_1 = f'{valid_dir}/{character}/{image}'\n",
    "            image_cv2 = cv2.imread(path_1, cv2.IMREAD_UNCHANGED)\n",
    "            image_pix = resize_image(image_cv2)\n",
    "            row = np.insert(image_pix[0], 0, character)\n",
    "            new_valid_df_list.append(row.tolist())\n",
    "\n",
    "for character in test_labels:\n",
    "    test_images = os.listdir(test_dir + f'/{character}')\n",
    "    for image in test_images:\n",
    "        if image!='.DS_Store':\n",
    "            path_1 = f'{test_dir}/{character}/{image}'\n",
    "            image_cv2 = cv2.imread(path_1, cv2.IMREAD_UNCHANGED)\n",
    "            image_pix = resize_image(image_cv2)\n",
    "            row = np.insert(image_pix[0], 0, character)\n",
    "            new_test_df_list.append(row.tolist())"
   ]
  },
  {
   "cell_type": "code",
   "execution_count": 12,
   "id": "bab8140c",
   "metadata": {},
   "outputs": [],
   "source": [
    "train_df_2 = pd.DataFrame(new_train_df_list)\n",
    "valid_df_2 = pd.DataFrame(new_valid_df_list)\n",
    "test_df_2 = pd.DataFrame(new_test_df_list)\n",
    "\n",
    "new_train_df = train_df.append(train_df_2)\n",
    "new_valid_df = valid_df.append(valid_df_2)\n",
    "new_test_df = test_df.append(test_df_2)\n",
    "\n",
    "new_train_df.to_csv('../data/combined/train.csv', index=False)\n",
    "new_valid_df.to_csv('../data/combined/valid.csv', index=False)\n",
    "new_test_df.to_csv('../data/combined/test.csv', index=False)"
   ]
  },
  {
   "cell_type": "code",
   "execution_count": null,
   "id": "99b73f0e",
   "metadata": {},
   "outputs": [],
   "source": []
  }
 ],
 "metadata": {
  "kernelspec": {
   "display_name": "Python 3 (ipykernel)",
   "language": "python",
   "name": "python3"
  },
  "language_info": {
   "codemirror_mode": {
    "name": "ipython",
    "version": 3
   },
   "file_extension": ".py",
   "mimetype": "text/x-python",
   "name": "python",
   "nbconvert_exporter": "python",
   "pygments_lexer": "ipython3",
   "version": "3.9.6"
  }
 },
 "nbformat": 4,
 "nbformat_minor": 5
}
