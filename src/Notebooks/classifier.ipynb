{
 "cells": [
  {
   "cell_type": "code",
   "execution_count": 1,
   "id": "d459d3df",
   "metadata": {},
   "outputs": [],
   "source": [
    "import os\n",
    "from os import path\n",
    "\n",
    "import pandas as pd\n",
    "import numpy as np\n",
    "import matplotlib.pyplot as plt\n",
    "import scipy.ndimage as ndimage\n",
    "from sklearn import svm\n",
    "import PIL\n",
    "import pickle\n",
    "import cv2"
   ]
  },
  {
   "cell_type": "code",
   "execution_count": 3,
   "id": "0d03c0fc",
   "metadata": {},
   "outputs": [],
   "source": [
    "data_dir = '../../data/v_0.1/'\n",
    "train_dataset = path.join(data_dir, 'train.csv')\n",
    "valid_dataset = path.join(data_dir, 'valid.csv')\n",
    "test_dataset = path.join(data_dir, 'test.csv')\n",
    "\n",
    "cols = [i for i in range(1025)]\n",
    "\n",
    "train_df = pd.read_csv(train_dataset, header=0, names=cols)\n",
    "valid_df = pd.read_csv(valid_dataset, header=0, names=cols)\n",
    "test_df = pd.read_csv(test_dataset, header=0, names=cols)"
   ]
  },
  {
   "cell_type": "code",
   "execution_count": 3,
   "id": "10191e62",
   "metadata": {},
   "outputs": [
    {
     "data": {
      "text/html": [
       "<div>\n",
       "<style scoped>\n",
       "    .dataframe tbody tr th:only-of-type {\n",
       "        vertical-align: middle;\n",
       "    }\n",
       "\n",
       "    .dataframe tbody tr th {\n",
       "        vertical-align: top;\n",
       "    }\n",
       "\n",
       "    .dataframe thead th {\n",
       "        text-align: right;\n",
       "    }\n",
       "</style>\n",
       "<table border=\"1\" class=\"dataframe\">\n",
       "  <thead>\n",
       "    <tr style=\"text-align: right;\">\n",
       "      <th></th>\n",
       "      <th>0</th>\n",
       "      <th>1</th>\n",
       "      <th>2</th>\n",
       "      <th>3</th>\n",
       "      <th>4</th>\n",
       "      <th>5</th>\n",
       "      <th>6</th>\n",
       "      <th>7</th>\n",
       "      <th>8</th>\n",
       "      <th>9</th>\n",
       "      <th>...</th>\n",
       "      <th>1015</th>\n",
       "      <th>1016</th>\n",
       "      <th>1017</th>\n",
       "      <th>1018</th>\n",
       "      <th>1019</th>\n",
       "      <th>1020</th>\n",
       "      <th>1021</th>\n",
       "      <th>1022</th>\n",
       "      <th>1023</th>\n",
       "      <th>1024</th>\n",
       "    </tr>\n",
       "  </thead>\n",
       "  <tbody>\n",
       "    <tr>\n",
       "      <th>0</th>\n",
       "      <td>1</td>\n",
       "      <td>0</td>\n",
       "      <td>0</td>\n",
       "      <td>0</td>\n",
       "      <td>0</td>\n",
       "      <td>0</td>\n",
       "      <td>0</td>\n",
       "      <td>0</td>\n",
       "      <td>0</td>\n",
       "      <td>0</td>\n",
       "      <td>...</td>\n",
       "      <td>0</td>\n",
       "      <td>0</td>\n",
       "      <td>0</td>\n",
       "      <td>0</td>\n",
       "      <td>0</td>\n",
       "      <td>0</td>\n",
       "      <td>0</td>\n",
       "      <td>0</td>\n",
       "      <td>0</td>\n",
       "      <td>0</td>\n",
       "    </tr>\n",
       "    <tr>\n",
       "      <th>1</th>\n",
       "      <td>1</td>\n",
       "      <td>0</td>\n",
       "      <td>0</td>\n",
       "      <td>0</td>\n",
       "      <td>0</td>\n",
       "      <td>0</td>\n",
       "      <td>0</td>\n",
       "      <td>0</td>\n",
       "      <td>0</td>\n",
       "      <td>0</td>\n",
       "      <td>...</td>\n",
       "      <td>0</td>\n",
       "      <td>0</td>\n",
       "      <td>0</td>\n",
       "      <td>0</td>\n",
       "      <td>0</td>\n",
       "      <td>0</td>\n",
       "      <td>0</td>\n",
       "      <td>0</td>\n",
       "      <td>0</td>\n",
       "      <td>0</td>\n",
       "    </tr>\n",
       "    <tr>\n",
       "      <th>2</th>\n",
       "      <td>1</td>\n",
       "      <td>0</td>\n",
       "      <td>0</td>\n",
       "      <td>0</td>\n",
       "      <td>0</td>\n",
       "      <td>0</td>\n",
       "      <td>0</td>\n",
       "      <td>0</td>\n",
       "      <td>0</td>\n",
       "      <td>0</td>\n",
       "      <td>...</td>\n",
       "      <td>0</td>\n",
       "      <td>0</td>\n",
       "      <td>0</td>\n",
       "      <td>0</td>\n",
       "      <td>0</td>\n",
       "      <td>0</td>\n",
       "      <td>0</td>\n",
       "      <td>0</td>\n",
       "      <td>0</td>\n",
       "      <td>0</td>\n",
       "    </tr>\n",
       "    <tr>\n",
       "      <th>3</th>\n",
       "      <td>1</td>\n",
       "      <td>0</td>\n",
       "      <td>0</td>\n",
       "      <td>0</td>\n",
       "      <td>0</td>\n",
       "      <td>0</td>\n",
       "      <td>0</td>\n",
       "      <td>0</td>\n",
       "      <td>0</td>\n",
       "      <td>0</td>\n",
       "      <td>...</td>\n",
       "      <td>0</td>\n",
       "      <td>0</td>\n",
       "      <td>0</td>\n",
       "      <td>0</td>\n",
       "      <td>0</td>\n",
       "      <td>0</td>\n",
       "      <td>0</td>\n",
       "      <td>0</td>\n",
       "      <td>0</td>\n",
       "      <td>0</td>\n",
       "    </tr>\n",
       "    <tr>\n",
       "      <th>4</th>\n",
       "      <td>1</td>\n",
       "      <td>0</td>\n",
       "      <td>0</td>\n",
       "      <td>0</td>\n",
       "      <td>0</td>\n",
       "      <td>0</td>\n",
       "      <td>0</td>\n",
       "      <td>0</td>\n",
       "      <td>0</td>\n",
       "      <td>0</td>\n",
       "      <td>...</td>\n",
       "      <td>0</td>\n",
       "      <td>0</td>\n",
       "      <td>0</td>\n",
       "      <td>0</td>\n",
       "      <td>0</td>\n",
       "      <td>0</td>\n",
       "      <td>0</td>\n",
       "      <td>0</td>\n",
       "      <td>0</td>\n",
       "      <td>0</td>\n",
       "    </tr>\n",
       "  </tbody>\n",
       "</table>\n",
       "<p>5 rows × 1025 columns</p>\n",
       "</div>"
      ],
      "text/plain": [
       "   0     1     2     3     4     5     6     7     8     9     ...  1015  \\\n",
       "0     1     0     0     0     0     0     0     0     0     0  ...     0   \n",
       "1     1     0     0     0     0     0     0     0     0     0  ...     0   \n",
       "2     1     0     0     0     0     0     0     0     0     0  ...     0   \n",
       "3     1     0     0     0     0     0     0     0     0     0  ...     0   \n",
       "4     1     0     0     0     0     0     0     0     0     0  ...     0   \n",
       "\n",
       "   1016  1017  1018  1019  1020  1021  1022  1023  1024  \n",
       "0     0     0     0     0     0     0     0     0     0  \n",
       "1     0     0     0     0     0     0     0     0     0  \n",
       "2     0     0     0     0     0     0     0     0     0  \n",
       "3     0     0     0     0     0     0     0     0     0  \n",
       "4     0     0     0     0     0     0     0     0     0  \n",
       "\n",
       "[5 rows x 1025 columns]"
      ]
     },
     "execution_count": 3,
     "metadata": {},
     "output_type": "execute_result"
    }
   ],
   "source": [
    "train_df.head()"
   ]
  },
  {
   "cell_type": "code",
   "execution_count": 83,
   "id": "594f7f5d",
   "metadata": {},
   "outputs": [],
   "source": [
    "X = train_df.iloc[:, 1:]\n",
    "y = train_df.iloc[:, :1]\n",
    "y = np.array(y[0].tolist())\n",
    "\n",
    "X_test = test_df.iloc[:, 1:]\n",
    "y_test = test_df.iloc[:, :1]\n",
    "\n",
    "X_valid = valid_df.iloc[:, 1:]\n",
    "y_valid = valid_df.iloc[:, :1]"
   ]
  },
  {
   "cell_type": "code",
   "execution_count": 9,
   "id": "3a73889c",
   "metadata": {},
   "outputs": [
    {
     "name": "stdout",
     "output_type": "stream",
     "text": [
      "Train - (17235, 1024)\n",
      "Valid - (5705, 1024)\n",
      "Test - (6359, 1024)\n"
     ]
    }
   ],
   "source": [
    "print('Train -', X.shape)\n",
    "print('Valid -', X_valid.shape)\n",
    "print('Test -', X_test.shape)"
   ]
  },
  {
   "cell_type": "code",
   "execution_count": 84,
   "id": "eebd7f51",
   "metadata": {},
   "outputs": [
    {
     "name": "stderr",
     "output_type": "stream",
     "text": [
      "/opt/homebrew/Caskroom/miniforge/base/lib/python3.9/site-packages/sklearn/svm/_base.py:255: ConvergenceWarning: Solver terminated early (max_iter=50).  Consider pre-processing your data with StandardScaler or MinMaxScaler.\n",
      "  warnings.warn('Solver terminated early (max_iter=%i).'\n"
     ]
    }
   ],
   "source": [
    "clf = svm.SVC(kernel='rbf', gamma=0.01, max_iter=50, verbose=False)\n",
    "clf.fit(X, y)\n",
    "\n",
    "y_preds = clf.predict(X_test)"
   ]
  },
  {
   "cell_type": "code",
   "execution_count": 85,
   "id": "46094cb3",
   "metadata": {},
   "outputs": [
    {
     "name": "stdout",
     "output_type": "stream",
     "text": [
      "Accuracy: 77.1%\n"
     ]
    }
   ],
   "source": [
    "y_test_list = y_test[0].tolist()\n",
    "y_preds_list = list(y_preds)\n",
    "\n",
    "pred_acc_list = []\n",
    "for pred_class, true_class in zip(y_preds_list, y_test_list):\n",
    "    pred_acc_list.append(int(pred_class==true_class))\n",
    "\n",
    "accuracy = sum(pred_acc_list) / float(len(pred_acc_list)) * 100\n",
    "print(f'Accuracy: {round(accuracy, 2)}%')"
   ]
  },
  {
   "cell_type": "code",
   "execution_count": 14,
   "id": "5937196b",
   "metadata": {},
   "outputs": [],
   "source": [
    "filename = 'svm_model_1.sav'\n",
    "pickle.dump(clf, open(filename, 'wb'))"
   ]
  },
  {
   "cell_type": "markdown",
   "id": "9c82c286",
   "metadata": {},
   "source": [
    "## Testing the model"
   ]
  },
  {
   "cell_type": "code",
   "execution_count": 165,
   "id": "8c247021",
   "metadata": {},
   "outputs": [],
   "source": [
    "def resize_image(img, channel=3):\n",
    "    gray_img = img[:,:,channel]\n",
    "    bin_img = gray_img / 25\n",
    "    bin_img = cv2.resize(bin_img, (32, 32))\n",
    "    bin_img = bin_img > 0\n",
    "    return bin_img\n",
    "\n",
    "\n",
    "image_cv2 = cv2.imread('../data/v_0.2/character_3351/58.png', cv2.IMREAD_UNCHANGED)\n",
    "img_32X32 = resize_image(image_cv2)"
   ]
  },
  {
   "cell_type": "code",
   "execution_count": 133,
   "id": "53452e06",
   "metadata": {},
   "outputs": [],
   "source": [
    "img_32X32 = img_32X32.astype(int)\n",
    "img_1X1024 = np.reshape(img_32X32, (1, 1024))"
   ]
  },
  {
   "cell_type": "code",
   "execution_count": 134,
   "id": "a8e0b63e",
   "metadata": {},
   "outputs": [
    {
     "data": {
      "text/plain": [
       "<matplotlib.image.AxesImage at 0x2864800d0>"
      ]
     },
     "execution_count": 134,
     "metadata": {},
     "output_type": "execute_result"
    },
    {
     "data": {
      "image/png": "[encoded data removed]",
      "text/plain": [
       "<Figure size 432x288 with 1 Axes>"
      ]
     },
     "metadata": {
      "needs_background": "light"
     },
     "output_type": "display_data"
    },
    {
     "data": {
      "image/png": "[encoded data removed]",
      "text/plain": [
       "<Figure size 432x288 with 1 Axes>"
      ]
     },
     "metadata": {
      "needs_background": "light"
     },
     "output_type": "display_data"
    },
    {
     "data": {
      "image/png": "[encoded data removed]",
      "text/plain": [
       "<Figure size 432x288 with 1 Axes>"
      ]
     },
     "metadata": {
      "needs_background": "light"
     },
     "output_type": "display_data"
    }
   ],
   "source": [
    "plt.figure('300 X 300 image')\n",
    "plt.imshow(image_cv2)\n",
    "\n",
    "plt.figure('32 X 32 image')\n",
    "plt.imshow(img_32X32)\n",
    "\n",
    "plt.figure('train image')\n",
    "temp = np.reshape(np.array(train_df.values[4370][1:]), (32,32))\n",
    "plt.imshow(temp)"
   ]
  },
  {
   "cell_type": "code",
   "execution_count": 135,
   "id": "b4fbcf96",
   "metadata": {},
   "outputs": [
    {
     "name": "stdout",
     "output_type": "stream",
     "text": [
      "Test image - {0: 943, 1: 81}\n",
      "Train image - {0: 693, 1: 331}\n"
     ]
    }
   ],
   "source": [
    "img_test = img_1X1024\n",
    "unique, counts = np.unique(img_test, return_counts=True)\n",
    "print('Test image -', dict(zip(unique, counts)))\n",
    "\n",
    "img_train = np.array(train_df.values[4370][1:])\n",
    "unique, counts = np.unique(img_train, return_counts=True)\n",
    "print('Train image -', dict(zip(unique, counts)))"
   ]
  },
  {
   "cell_type": "code",
   "execution_count": 136,
   "id": "1acfb4b1",
   "metadata": {},
   "outputs": [
    {
     "data": {
      "text/plain": [
       "array([56])"
      ]
     },
     "execution_count": 136,
     "metadata": {},
     "output_type": "execute_result"
    }
   ],
   "source": [
    "result = clf.predict(img_1X1024)\n",
    "result"
   ]
  },
  {
   "cell_type": "markdown",
   "id": "116213a3",
   "metadata": {},
   "source": [
    "## Flipping and rotating the dataset"
   ]
  },
  {
   "cell_type": "code",
   "execution_count": 4,
   "id": "8576b013",
   "metadata": {},
   "outputs": [],
   "source": [
    "def rotate_flip(img_array):\n",
    "    angle = 270 \n",
    "    data = np.reshape(img_array, (32,32))\n",
    "\n",
    "    new_data = ndimage.rotate(data, angle, reshape=True)\n",
    "    new_data = np.fliplr(new_data)\n",
    "    \n",
    "    new_data = np.reshape(new_data, (1, 1024))\n",
    "    return new_data\n",
    "\n",
    "def rotate_and_flip_dataset(dataset):\n",
    "    new_df_list = []\n",
    "    \n",
    "    for row in dataset.values:\n",
    "        new_row = []\n",
    "        new_row.append(row[0])\n",
    "        row = rotate_flip(row[1:])\n",
    "        new_row += row.tolist()[0]\n",
    "        new_df_list.append(new_row)\n",
    "    \n",
    "    return new_df_list"
   ]
  },
  {
   "cell_type": "code",
   "execution_count": 7,
   "id": "9f344b9c",
   "metadata": {},
   "outputs": [],
   "source": [
    "new_train = rotate_and_flip_dataset(train_df)\n",
    "train_df = pd.DataFrame(new_train)\n",
    "train_df.to_csv('fixed_train.csv')\n",
    "\n",
    "new_test = rotate_and_flip_dataset(test_df)\n",
    "test_df = pd.DataFrame(new_test)\n",
    "test_df.to_csv('fixed_test.csv')\n",
    "\n",
    "new_valid = rotate_and_flip_dataset(valid_df)\n",
    "valid_df = pd.DataFrame(new_valid)\n",
    "valid_df.to_csv('fixed_valid.csv')"
   ]
  },
  {
   "cell_type": "code",
   "execution_count": 8,
   "id": "84e754b8",
   "metadata": {},
   "outputs": [
    {
     "name": "stdout",
     "output_type": "stream",
     "text": [
      "(17235, 1025)\n",
      "(5705, 1025)\n",
      "(6359, 1025)\n"
     ]
    }
   ],
   "source": [
    "print(train_df.shape)\n",
    "print(valid_df.shape)\n",
    "print(test_df.shape)"
   ]
  },
  {
   "cell_type": "code",
   "execution_count": 79,
   "id": "d129c745",
   "metadata": {},
   "outputs": [
    {
     "data": {
      "text/plain": [
       "<matplotlib.image.AxesImage at 0x167768d60>"
      ]
     },
     "execution_count": 79,
     "metadata": {},
     "output_type": "execute_result"
    },
    {
     "data": {
      "image/png": "[encoded data removed]",
      "text/plain": [
       "<Figure size 432x288 with 1 Axes>"
      ]
     },
     "metadata": {
      "needs_background": "light"
     },
     "output_type": "display_data"
    }
   ],
   "source": [
    "temp = np.reshape(np.array(test_df.values[1000][1:]), (32,32))\n",
    "plt.imshow(temp)"
   ]
  },
  {
   "cell_type": "code",
   "execution_count": 15,
   "id": "a5639160",
   "metadata": {},
   "outputs": [
    {
     "data": {
      "text/plain": [
       "(1, [2, 4])"
      ]
     },
     "execution_count": 15,
     "metadata": {},
     "output_type": "execute_result"
    }
   ],
   "source": [
    "l = [1, 2, 4]\n",
    "a = l.pop(0)\n",
    "a, l"
   ]
  },
  {
   "cell_type": "code",
   "execution_count": 21,
   "id": "5e34477f",
   "metadata": {},
   "outputs": [
    {
     "name": "stdout",
     "output_type": "stream",
     "text": [
      "[1 2 3]\n"
     ]
    }
   ],
   "source": [
    "a = np.array([1, 2, 3])\n",
    "b = np.array([0])\n",
    "c = a+b\n",
    "print(c)"
   ]
  },
  {
   "cell_type": "code",
   "execution_count": 22,
   "id": "09d0b71b",
   "metadata": {},
   "outputs": [
    {
     "name": "stdout",
     "output_type": "stream",
     "text": [
      "[1, 1, 2, 3]\n"
     ]
    }
   ],
   "source": [
    "new_list = []\n",
    "for row in train_df.values:\n",
    "    new_list.append(row[0])\n",
    "    a = a.tolist()\n",
    "    print(new_list + a)\n",
    "    break"
   ]
  },
  {
   "cell_type": "markdown",
   "id": "7bb04d0f",
   "metadata": {},
   "source": [
    "### Retraining with new dataset"
   ]
  },
  {
   "cell_type": "code",
   "execution_count": 144,
   "id": "440874ca",
   "metadata": {},
   "outputs": [],
   "source": [
    "new_df_list = []\n",
    "\n",
    "for i in range(91):\n",
    "    image_cv2 = cv2.imread(f'tr/{i+1}.png', cv2.IMREAD_UNCHANGED)\n",
    "    img_32X32 = resize_image(image_cv2)\n",
    "    img_32X32 = img_32X32.astype(int)\n",
    "    img_1X1024 = np.reshape(img_32X32, (1, 1024))\n",
    "    row = np.insert(img_1X1024[0], 0, 22)\n",
    "    new_df_list.append(row.tolist())"
   ]
  },
  {
   "cell_type": "code",
   "execution_count": 146,
   "id": "c60177a2",
   "metadata": {},
   "outputs": [],
   "source": [
    "new_X = pd.DataFrame(new_df_list)"
   ]
  },
  {
   "cell_type": "code",
   "execution_count": 147,
   "id": "671a7bb6",
   "metadata": {},
   "outputs": [
    {
     "name": "stdout",
     "output_type": "stream",
     "text": [
      "(17235, 1025)\n",
      "(17326, 1025)\n"
     ]
    }
   ],
   "source": [
    "new_train_df = train_df.append(new_X)\n",
    "print(train_df.shape)\n",
    "print(new_train_df.shape)"
   ]
  },
  {
   "cell_type": "code",
   "execution_count": 148,
   "id": "f1f71abe",
   "metadata": {},
   "outputs": [
    {
     "name": "stderr",
     "output_type": "stream",
     "text": [
      "/opt/homebrew/Caskroom/miniforge/base/lib/python3.9/site-packages/sklearn/svm/_base.py:255: ConvergenceWarning: Solver terminated early (max_iter=50).  Consider pre-processing your data with StandardScaler or MinMaxScaler.\n",
      "  warnings.warn('Solver terminated early (max_iter=%i).'\n"
     ]
    },
    {
     "name": "stdout",
     "output_type": "stream",
     "text": [
      "Accuracy: 76.96%\n"
     ]
    }
   ],
   "source": [
    "X = new_train_df.iloc[:, 1:]\n",
    "y = new_train_df.iloc[:, :1]\n",
    "y = np.array(y[0].tolist())\n",
    "\n",
    "X_test = test_df.iloc[:, 1:]\n",
    "y_test = test_df.iloc[:, :1]\n",
    "\n",
    "clf = svm.SVC(kernel='rbf', gamma=0.01, max_iter=50, verbose=False)\n",
    "clf.fit(X, y)\n",
    "\n",
    "y_preds = clf.predict(X_test)\n",
    "\n",
    "y_test_list = y_test[0].tolist()\n",
    "y_preds_list = list(y_preds)\n",
    "\n",
    "pred_acc_list = []\n",
    "for pred_class, true_class in zip(y_preds_list, y_test_list):\n",
    "    pred_acc_list.append(int(pred_class==true_class))\n",
    "\n",
    "accuracy = sum(pred_acc_list) / float(len(pred_acc_list)) * 100\n",
    "print(f'Accuracy: {round(accuracy, 2)}%')"
   ]
  },
  {
   "cell_type": "code",
   "execution_count": null,
   "id": "5bc81f68",
   "metadata": {},
   "outputs": [],
   "source": []
  },
  {
   "cell_type": "code",
   "execution_count": 156,
   "id": "e3b44abd",
   "metadata": {},
   "outputs": [
    {
     "name": "stdout",
     "output_type": "stream",
     "text": [
      "[22, 22, 22, 22, 22, 22, 22, 22, 22, 22, 22, 22, 22, 22, 22, 22, 22, 22, 22, 22, 22, 22, 22, 22, 22, 22, 22, 22, 22, 22, 22, 22, 22, 22, 22, 22, 22, 22, 22]\n"
     ]
    }
   ],
   "source": [
    "preds = []\n",
    "for i in range(39):\n",
    "    image_cv2 = cv2.imread(f'te/{i+1}.png', cv2.IMREAD_UNCHANGED)\n",
    "    img_32X32 = resize_image(image_cv2)\n",
    "    img_32X32 = img_32X32.astype(int)\n",
    "    img_1X1024 = np.reshape(img_32X32, (1, 1024))\n",
    "    result = clf.predict(img_1X1024)\n",
    "    preds.append(result[0])\n",
    "\n",
    "print(preds)"
   ]
  },
  {
   "cell_type": "code",
   "execution_count": 183,
   "id": "ed3768c6",
   "metadata": {},
   "outputs": [],
   "source": [
    "image_cv2 = cv2.imread('proper_test2.png', cv2.IMREAD_UNCHANGED)\n",
    "image_cv2 = cv2.bitwise_not(image_cv2)\n",
    "img_32X32 = resize_image(image_cv2, channel=3)\n",
    "img_32X32 = img_32X32.astype(int)\n",
    "img_1X1024 = np.reshape(img_32X32, (1, 1024))\n",
    "result = clf.predict(img_1X1024)"
   ]
  },
  {
   "cell_type": "code",
   "execution_count": 184,
   "id": "cd2a32dc",
   "metadata": {},
   "outputs": [
    {
     "data": {
      "text/plain": [
       "array([22])"
      ]
     },
     "execution_count": 184,
     "metadata": {},
     "output_type": "execute_result"
    }
   ],
   "source": [
    "result"
   ]
  },
  {
   "cell_type": "code",
   "execution_count": 26,
   "id": "ab37437d",
   "metadata": {},
   "outputs": [
    {
     "data": {
      "text/plain": [
       "<matplotlib.image.AxesImage at 0x16358f160>"
      ]
     },
     "execution_count": 26,
     "metadata": {},
     "output_type": "execute_result"
    },
    {
     "data": {
      "image/png": "[encoded data removed]",
      "text/plain": [
       "<Figure size 432x288 with 1 Axes>"
      ]
     },
     "metadata": {
      "needs_background": "light"
     },
     "output_type": "display_data"
    }
   ],
   "source": [
    "i = cv2.imread('../../data/v_0.2/train/59/88.png', cv2.IMREAD_UNCHANGED)\n",
    "plt.imshow(i)"
   ]
  },
  {
   "cell_type": "code",
   "execution_count": null,
   "id": "1728b0a6",
   "metadata": {},
   "outputs": [],
   "source": []
  }
 ],
 "metadata": {
  "kernelspec": {
   "display_name": "Python 3 (ipykernel)",
   "language": "python",
   "name": "python3"
  },
  "language_info": {
   "codemirror_mode": {
    "name": "ipython",
    "version": 3
   },
   "file_extension": ".py",
   "mimetype": "text/x-python",
   "name": "python",
   "nbconvert_exporter": "python",
   "pygments_lexer": "ipython3",
   "version": "3.9.6"
  }
 },
 "nbformat": 4,
 "nbformat_minor": 5
}
